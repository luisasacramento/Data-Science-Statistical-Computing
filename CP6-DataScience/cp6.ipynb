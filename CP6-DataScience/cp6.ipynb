{
 "cells": [
  {
   "cell_type": "code",
   "execution_count": null,
   "metadata": {},
   "outputs": [],
   "source": [
    "# Luisa Cristina dos Santos Neves - rm551889"
   ]
  },
  {
   "cell_type": "code",
   "execution_count": 18,
   "metadata": {},
   "outputs": [],
   "source": [
    "import pandas as pd\n",
    "import numpy as np\n",
    "import matplotlib.pyplot as plt\n",
    "import seaborn as sns"
   ]
  },
  {
   "cell_type": "code",
   "execution_count": 13,
   "metadata": {},
   "outputs": [
    {
     "name": "stdout",
     "output_type": "stream",
     "text": [
      "<class 'pandas.core.frame.DataFrame'>\n",
      "RangeIndex: 319795 entries, 0 to 319794\n",
      "Data columns (total 6 columns):\n",
      " #   Column            Non-Null Count   Dtype  \n",
      "---  ------            --------------   -----  \n",
      " 0   HeartDisease      319795 non-null  object \n",
      " 1   MentalHealth      319795 non-null  float64\n",
      " 2   SleepTime         319795 non-null  float64\n",
      " 3   PhysicalActivity  319795 non-null  object \n",
      " 4   Asthma            319795 non-null  object \n",
      " 5   KidneyDisease     319795 non-null  object \n",
      "dtypes: float64(2), object(4)\n",
      "memory usage: 14.6+ MB\n",
      "None\n"
     ]
    }
   ],
   "source": [
    "# Usando cojunto de colunas correspondentes ao final do rm \n",
    "\n",
    "\n",
    "df_all= pd.read_csv('CP6 HeartDisease.csv')\n",
    "\n",
    "df = df_all[['HeartDisease', 'MentalHealth', 'SleepTime', 'PhysicalActivity', 'Asthma', 'KidneyDisease']]\n",
    "\n",
    "\n",
    "print(df.info())\n"
   ]
  },
  {
   "cell_type": "code",
   "execution_count": 14,
   "metadata": {},
   "outputs": [
    {
     "name": "stdout",
     "output_type": "stream",
     "text": [
      "  HeartDisease  SleepTime  MentalHealth_1.0  MentalHealth_2.0  \\\n",
      "0           No        5.0                 0                 0   \n",
      "1           No        7.0                 0                 0   \n",
      "2           No        8.0                 0                 0   \n",
      "3           No        6.0                 0                 0   \n",
      "4           No        8.0                 0                 0   \n",
      "\n",
      "   MentalHealth_3.0  MentalHealth_4.0  MentalHealth_5.0  MentalHealth_6.0  \\\n",
      "0                 0                 0                 0                 0   \n",
      "1                 0                 0                 0                 0   \n",
      "2                 0                 0                 0                 0   \n",
      "3                 0                 0                 0                 0   \n",
      "4                 0                 0                 0                 0   \n",
      "\n",
      "   MentalHealth_7.0  MentalHealth_8.0  ...  MentalHealth_24.0  \\\n",
      "0                 0                 0  ...                  0   \n",
      "1                 0                 0  ...                  0   \n",
      "2                 0                 0  ...                  0   \n",
      "3                 0                 0  ...                  0   \n",
      "4                 0                 0  ...                  0   \n",
      "\n",
      "   MentalHealth_25.0  MentalHealth_26.0  MentalHealth_27.0  MentalHealth_28.0  \\\n",
      "0                  0                  0                  0                  0   \n",
      "1                  0                  0                  0                  0   \n",
      "2                  0                  0                  0                  0   \n",
      "3                  0                  0                  0                  0   \n",
      "4                  0                  0                  0                  0   \n",
      "\n",
      "   MentalHealth_29.0  MentalHealth_30.0  PhysicalActivity_Yes  Asthma_Yes  \\\n",
      "0                  0                  1                     1           1   \n",
      "1                  0                  0                     1           0   \n",
      "2                  0                  1                     1           1   \n",
      "3                  0                  0                     0           0   \n",
      "4                  0                  0                     1           0   \n",
      "\n",
      "   KidneyDisease_Yes  \n",
      "0                  0  \n",
      "1                  0  \n",
      "2                  0  \n",
      "3                  0  \n",
      "4                  0  \n",
      "\n",
      "[5 rows x 35 columns]\n",
      "       HeartDisease  SleepTime  MentalHealth_1.0  MentalHealth_2.0  \\\n",
      "319790          Yes        6.0                 0                 0   \n",
      "319791           No        5.0                 0                 0   \n",
      "319792           No        6.0                 0                 0   \n",
      "319793           No       12.0                 0                 0   \n",
      "319794           No        8.0                 0                 0   \n",
      "\n",
      "        MentalHealth_3.0  MentalHealth_4.0  MentalHealth_5.0  \\\n",
      "319790                 0                 0                 0   \n",
      "319791                 0                 0                 0   \n",
      "319792                 0                 0                 0   \n",
      "319793                 0                 0                 0   \n",
      "319794                 0                 0                 0   \n",
      "\n",
      "        MentalHealth_6.0  MentalHealth_7.0  MentalHealth_8.0  ...  \\\n",
      "319790                 0                 0                 0  ...   \n",
      "319791                 0                 0                 0  ...   \n",
      "319792                 0                 0                 0  ...   \n",
      "319793                 0                 0                 0  ...   \n",
      "319794                 0                 0                 0  ...   \n",
      "\n",
      "        MentalHealth_24.0  MentalHealth_25.0  MentalHealth_26.0  \\\n",
      "319790                  0                  0                  0   \n",
      "319791                  0                  0                  0   \n",
      "319792                  0                  0                  0   \n",
      "319793                  0                  0                  0   \n",
      "319794                  0                  0                  0   \n",
      "\n",
      "        MentalHealth_27.0  MentalHealth_28.0  MentalHealth_29.0  \\\n",
      "319790                  0                  0                  0   \n",
      "319791                  0                  0                  0   \n",
      "319792                  0                  0                  0   \n",
      "319793                  0                  0                  0   \n",
      "319794                  0                  0                  0   \n",
      "\n",
      "        MentalHealth_30.0  PhysicalActivity_Yes  Asthma_Yes  KidneyDisease_Yes  \n",
      "319790                  0                     0           1                  0  \n",
      "319791                  0                     1           1                  0  \n",
      "319792                  0                     1           0                  0  \n",
      "319793                  0                     0           0                  0  \n",
      "319794                  0                     1           0                  0  \n",
      "\n",
      "[5 rows x 35 columns]\n"
     ]
    }
   ],
   "source": [
    "#Formatação de Váriaveis\n",
    "\n",
    "df_dummies = pd.get_dummies(df, columns=['MentalHealth', 'PhysicalActivity', 'Asthma', 'KidneyDisease'], dtype='int', drop_first=True)\n",
    "\n",
    "\n",
    "print(df_dummies.head())# primeiras linhas\n",
    "print(df_dummies.tail())# ultimas linhas\n"
   ]
  },
  {
   "cell_type": "code",
   "execution_count": 15,
   "metadata": {},
   "outputs": [
    {
     "name": "stderr",
     "output_type": "stream",
     "text": [
      "C:\\Users\\user\\AppData\\Local\\Temp\\ipykernel_3000\\4119147434.py:9: SettingWithCopyWarning: \n",
      "A value is trying to be set on a copy of a slice from a DataFrame.\n",
      "Try using .loc[row_indexer,col_indexer] = value instead\n",
      "\n",
      "See the caveats in the documentation: https://pandas.pydata.org/pandas-docs/stable/user_guide/indexing.html#returning-a-view-versus-a-copy\n",
      "  df['HeartDisease'] = LabelEncoder().fit_transform(df['HeartDisease'])\n"
     ]
    },
    {
     "name": "stdout",
     "output_type": "stream",
     "text": [
      "Acurácia: 0.9143982864022264\n",
      "F1-Score: 0.003276897870016385\n",
      "Matriz de Confusão:\n",
      " [[58475     9]\n",
      " [ 5466     9]]\n"
     ]
    }
   ],
   "source": [
    "# Modelo Logit\n",
    "\n",
    "from sklearn.model_selection import train_test_split\n",
    "from sklearn.preprocessing import StandardScaler, LabelEncoder\n",
    "from sklearn.linear_model import LogisticRegression\n",
    "from sklearn.metrics import accuracy_score, f1_score, confusion_matrix\n",
    "\n",
    "\n",
    "df['HeartDisease'] = LabelEncoder().fit_transform(df['HeartDisease'])  \n",
    "y = df['HeartDisease']\n",
    "\n",
    "X = df_dummies.drop(columns=['HeartDisease'])#usando o df_dummies que criei lá em cima\n",
    "\n",
    "\n",
    "X_train, X_test, y_train, y_test = train_test_split(X, y, stratify=y, test_size=0.2, random_state=42)\n",
    "\n",
    "\n",
    "scaler = StandardScaler()\n",
    "X_train_scaled = scaler.fit_transform(X_train)\n",
    "X_test_scaled = scaler.transform(X_test)\n",
    "\n",
    "\n",
    "logit_model = LogisticRegression(random_state=42)\n",
    "logit_model.fit(X_train_scaled, y_train)\n",
    "\n",
    "\n",
    "y_pred = logit_model.predict(X_test_scaled)\n",
    "\n",
    "\n",
    "accuracy = accuracy_score(y_test, y_pred)\n",
    "f1 = f1_score(y_test, y_pred)\n",
    "conf_matrix = confusion_matrix(y_test, y_pred)\n",
    "\n",
    "accuracy, f1, conf_matrix\n",
    "\n",
    "\n",
    "print(\"Acurácia:\", accuracy)\n",
    "print(\"F1-Score:\", f1)\n",
    "print(\"Matriz de Confusão:\\n\", conf_matrix)\n",
    "\n",
    "# Acurácia: 0.9143982864022264\n",
    "# F1-Score: 0.003276897870016385\n",
    "# Matriz de Confusão:\n",
    "#  [[58475     9]\n",
    "#  [ 5466     9]]"
   ]
  },
  {
   "cell_type": "code",
   "execution_count": 20,
   "metadata": {},
   "outputs": [
    {
     "name": "stdout",
     "output_type": "stream",
     "text": [
      "Acurácia: 0.9139\n",
      "F1-Score: 0.0147\n",
      "Matriz de Confusão:\n",
      "[[58408    76]\n",
      " [ 5434    41]]\n"
     ]
    },
    {
     "data": {
      "image/png": "[encoded data removed]",
      "text/plain": [
       "<Figure size 640x480 with 2 Axes>"
      ]
     },
     "metadata": {},
     "output_type": "display_data"
    }
   ],
   "source": [
    "# Modelo de Árvore de Decisão\n",
    "\n",
    "from pyexpat import model\n",
    "from sklearn.tree import DecisionTreeClassifier\n",
    "\n",
    "\n",
    "X = df_dummies.drop(columns=['HeartDisease'])  \n",
    "y = df['HeartDisease']              \n",
    "\n",
    "\n",
    "X_train, X_test, y_train, y_test = train_test_split(X, y, test_size=0.2, random_state=42, stratify=y)\n",
    "\n",
    "\n",
    "scaler = StandardScaler()\n",
    "\n",
    "X_train_scaled = scaler.fit_transform(X_train)\n",
    "X_test_scaled = scaler.transform(X_test)\n",
    "\n",
    "\n",
    "clf = DecisionTreeClassifier(random_state=42)\n",
    "clf.fit(X_train_scaled, y_train)\n",
    "\n",
    "\n",
    "y_pred = clf.predict(X_test_scaled)\n",
    "\n",
    "\n",
    "accuracy = accuracy_score(y_test, y_pred)\n",
    "print(f'Acurácia: {accuracy:.4f}')\n",
    "\n",
    "\n",
    "f1 = f1_score(y_test, y_pred)\n",
    "print(f'F1-Score: {f1:.4f}')\n",
    "\n",
    "\n",
    "conf_matrix = confusion_matrix(y_test, y_pred)\n",
    "print('Matriz de Confusão:')\n",
    "print(conf_matrix)\n",
    "\n",
    "\n",
    "\n",
    "sns.heatmap(conf_matrix, annot=True, fmt='d', cmap='Blues', xticklabels=['Sem Doença', 'Com Doença'], yticklabels=['Sem Doença', 'Com Doença'])\n",
    "plt.xlabel('Predito')\n",
    "plt.ylabel('Real')\n",
    "plt.title('Matriz de Confusão')\n",
    "plt.show()\n",
    "\n",
    "# Acurácia: 0.9139\n",
    "# F1-Score: 0.0147\n",
    "# Matriz de Confusão:\n",
    "# [[58408    76]\n",
    "#  [ 5434    41]]\n"
   ]
  },
  {
   "cell_type": "code",
   "execution_count": 27,
   "metadata": {},
   "outputs": [
    {
     "name": "stderr",
     "output_type": "stream",
     "text": [
      "c:\\Users\\user\\anaconda3\\lib\\site-packages\\sklearn\\neighbors\\_classification.py:228: FutureWarning: Unlike other reduction functions (e.g. `skew`, `kurtosis`), the default behavior of `mode` typically preserves the axis it acts along. In SciPy 1.11.0, this behavior will change: the default value of `keepdims` will become False, the `axis` over which the statistic is taken will be eliminated, and the value None will no longer be accepted. Set `keepdims` to True or False to avoid this warning.\n",
      "  mode, _ = stats.mode(_y[neigh_ind, k], axis=1)\n"
     ]
    },
    {
     "name": "stdout",
     "output_type": "stream",
     "text": [
      "Acurácia: 0.9118\n",
      "F1-Score: 0.0362\n",
      "Matriz de Confusão:\n",
      "[[58212   272]\n",
      " [ 5369   106]]\n",
      "AUC-ROC: 0.5415\n"
     ]
    }
   ],
   "source": [
    "#Modelo KNN\n",
    "\n",
    "from sklearn.metrics import roc_auc_score\n",
    "from sklearn.neighbors import KNeighborsClassifier\n",
    "\n",
    "# Dados de entrada\n",
    "X = df_dummies.drop(columns=['HeartDisease'])    \n",
    "y = df['HeartDisease']  \n",
    "\n",
    "# Separar os dados em treino (80%) e teste (20%)\n",
    "X_train, X_test, y_train, y_test = train_test_split(X, y, stratify=y, test_size=0.2, random_state=42)\n",
    "\n",
    "# Padronizar as variáveis independentes (X_train e X_test) usando StandardScaler\n",
    "scaler = StandardScaler()\n",
    "X_train_scaled = scaler.fit_transform(X_train)\n",
    "X_test_scaled = scaler.transform(X_test)\n",
    "\n",
    "# Treinar o modelo KNN (usando 5 vizinhos como exemplo)\n",
    "model = KNeighborsClassifier(n_neighbors=5)\n",
    "model.fit(X_train_scaled, y_train)\n",
    "\n",
    "# Fazer previsões\n",
    "y_pred = model.predict(X_test_scaled)\n",
    "\n",
    "# 1. Calcular a Acurácia\n",
    "acuracia = accuracy_score(y_test, y_pred)\n",
    "\n",
    "# 2. Calcular o F1-Score\n",
    "f1 = f1_score(y_test, y_pred)\n",
    "\n",
    "# 3. Matriz de Confusão\n",
    "matriz_confusao = confusion_matrix(y_test, y_pred)\n",
    "\n",
    "# 4. Calcular a Área Sob a Curva ROC (AUC-ROC)\n",
    "# Para calcular o AUC-ROC, usamos as previsões de probabilidade do modelo\n",
    "y_prob = model.predict_proba(X_test_scaled)[:, 1]\n",
    "auc_roc = roc_auc_score(y_test, y_prob)\n",
    "\n",
    "print(f\"Acurácia: {acuracia:.4f}\")\n",
    "print(f\"F1-Score: {f1:.4f}\")\n",
    "print(\"Matriz de Confusão:\")\n",
    "print(matriz_confusao)\n",
    "print(f\"AUC-ROC: {auc_roc:.4f}\")\n",
    "\n",
    "# Acurácia: 0.9118\n",
    "# F1-Score: 0.0362\n",
    "# Matriz de Confusão:\n",
    "# [[58212   272]\n",
    "#  [ 5369   106]]\n",
    "# AUC-ROC: 0.5415"
   ]
  },
  {
   "cell_type": "code",
   "execution_count": 28,
   "metadata": {},
   "outputs": [
    {
     "name": "stdout",
     "output_type": "stream",
     "text": [
      "Paciente 1 - Classificação: Sem Doença Cardíaca, Probabilidade: 0.0000\n",
      "Paciente 2 - Classificação: Sem Doença Cardíaca, Probabilidade: 0.0000\n"
     ]
    },
    {
     "name": "stderr",
     "output_type": "stream",
     "text": [
      "c:\\Users\\user\\anaconda3\\lib\\site-packages\\sklearn\\neighbors\\_classification.py:228: FutureWarning: Unlike other reduction functions (e.g. `skew`, `kurtosis`), the default behavior of `mode` typically preserves the axis it acts along. In SciPy 1.11.0, this behavior will change: the default value of `keepdims` will become False, the `axis` over which the statistic is taken will be eliminated, and the value None will no longer be accepted. Set `keepdims` to True or False to avoid this warning.\n",
      "  mode, _ = stats.mode(_y[neigh_ind, k], axis=1)\n"
     ]
    }
   ],
   "source": [
    "# Previsão\n",
    "import pandas as pd\n",
    "from sklearn.preprocessing import StandardScaler\n",
    "\n",
    "\n",
    "dados_pacientes = pd.DataFrame([\n",
    "    [2, 8,  1,  0, 0],  # Paciente 1\n",
    "    [8, 8, 0, 1, 1]   # Paciente 2\n",
    "], columns=['MentalHealth', 'SleepTime', 'PhysicalActivity', 'Asthma', 'KidneyDisease'])\n",
    "\n",
    "\n",
    "dados_pacientes_dummies = pd.get_dummies(dados_pacientes)\n",
    "\n",
    "\n",
    "for col in X.columns:\n",
    "    if col not in dados_pacientes_dummies.columns:\n",
    "        dados_pacientes_dummies[col] = 0\n",
    "\n",
    "\n",
    "dados_pacientes_dummies = dados_pacientes_dummies[X.columns]\n",
    "\n",
    "\n",
    "dados_pacientes_scaled = scaler.transform(dados_pacientes_dummies)\n",
    "\n",
    "\n",
    "classificacao = model.predict(dados_pacientes_scaled)\n",
    "probabilidade = model.predict_proba(dados_pacientes_scaled)[:, 1]  \n",
    "\n",
    "\n",
    "for i, (classe, prob) in enumerate(zip(classificacao, probabilidade)):\n",
    "    print(f\"Paciente {i+1} - Classificação: {'Doença Cardíaca' if classe == 1 else 'Sem Doença Cardíaca'}, Probabilidade: {prob:.4f}\")\n",
    "\n",
    "\n",
    "# Paciente 1 - Classificação: Sem Doença Cardíaca, Probabilidade: 0.0000\n",
    "# Paciente 2 - Classificação: Sem Doença Cardíaca, Probabilidade: 0.0000\n"
   ]
  },
  {
   "cell_type": "code",
   "execution_count": null,
   "metadata": {},
   "outputs": [],
   "source": []
  },
  {
   "cell_type": "code",
   "execution_count": null,
   "metadata": {},
   "outputs": [],
   "source": []
  },
  {
   "cell_type": "code",
   "execution_count": null,
   "metadata": {},
   "outputs": [],
   "source": []
  }
 ],
 "metadata": {
  "kernelspec": {
   "display_name": "base",
   "language": "python",
   "name": "python3"
  },
  "language_info": {
   "codemirror_mode": {
    "name": "ipython",
    "version": 3
   },
   "file_extension": ".py",
   "mimetype": "text/x-python",
   "name": "python",
   "nbconvert_exporter": "python",
   "pygments_lexer": "ipython3",
   "version": "3.9.13"
  }
 },
 "nbformat": 4,
 "nbformat_minor": 2
}
